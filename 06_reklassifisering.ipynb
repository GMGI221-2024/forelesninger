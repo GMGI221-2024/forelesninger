{
 "cells": [
  {
   "cell_type": "markdown",
   "id": "62d5a33e",
   "metadata": {},
   "source": [
    "# 💻 Reklassifisering av data\n",
    "\n",
    "[![Open In Colab](https://colab.research.google.com/assets/colab-badge.svg)](https://colab.research.google.com/github/GMGI221-2024/forelesninger/blob/main/09_reklassifisering.ipynb)\n",
    "\n",
    "Reklassifisering av data basert på spesifikke kriterier er en vanlig oppgave når man utfører GIS\n",
    "analyse. Formålet med denne notebooken er å se hvordan vi kan reklassifisere verdier\n",
    "basert på noen kriterier. Man kunne for eksempel klassifisere informasjon basert på\n",
    "reisetider og boligpriser ved hjelp av disse kriteriene:\n",
    "\n",
    "1. Hvis reisetiden til jobben min er mindre enn 30 minutter, **OG**\n",
    "2. husleien for leiligheten er mindre enn 10000 kr per måned\n",
    "\n",
    "Hvis begge kriteriene er oppfylt: Jeg går for å se leiligheten og prøver å leie den\n",
    "Hvis ikke: Jeg fortsetter å lete etter noe annet\n",
    "\n",
    "\n",
    "I denne opplæringen vil vi:\n",
    "\n",
    "1. Bruk klassifiseringsskjemaer fra PySAL [mapclassify\n",
    "   bibliotek](https://pysal.org/mapclassify/) for å klassifisere befolkningstall til\n",
    "   flere klasser.\n",
    "\n",
    "2. Opprett en egendefinert klassifisering for å klassifisere og benytte den\n",
    "\n",
    "\n",
    "## Inputdata\n",
    "\n",
    "Vi vil bruke befolkningsdata fra [SSB](https://kart.ssb.no/) for Oslo, som inneholder 2380 celler for Oslo kommune."
   ]
  },
  {
   "cell_type": "code",
   "execution_count": 1,
   "id": "db569794",
   "metadata": {},
   "outputs": [],
   "source": [
    "import pathlib \n",
    "NOTEBOOK_PATH = pathlib.Path().resolve()\n",
    "DATA_MAPPE = NOTEBOOK_PATH / \"data\""
   ]
  },
  {
   "cell_type": "code",
   "execution_count": null,
   "id": "cc34b2cc-932b-46a9-9f9e-646610fb7643",
   "metadata": {},
   "outputs": [],
   "source": [
    "import geopandas\n",
    "\n",
    "rutenett = geopandas.read_file(DATA_MAPPE / \"ssb_rutenett\" / )\n",
    "\n"
   ]
  },
  {
   "cell_type": "markdown",
   "id": "6e83115b",
   "metadata": {},
   "source": [
    "## Vanlige klassifiseringer\n",
    "\n",
    "### Klassifiseringsskjemaer for tematiske kart\n",
    "\n",
    "[PySAL](https://pysal.org/) -modulen er et omfattende Python-bibliotek for romlig\n",
    "analyse. Det inkluderer også alle de vanligste dataklassifiseringene som er\n",
    "brukt vanlig f.eks. når man visualiserer data. Tilgjengelige kartklassifiseringer i [pysal's\n",
    "mapclassify -modul](https://github.com/pysal/mapclassify):\n",
    "\n",
    "- Box Plot\n",
    "- Equal Interval\n",
    "- Fisher Jenks\n",
    "- Fisher Jenks Sampled\n",
    "- HeadTail Breaks\n",
    "- Jenks Caspall\n",
    "- Jenks Caspall Forced\n",
    "- Jenks Caspall Sampled\n",
    "- Max P Classifier\n",
    "- Maximum Breaks\n",
    "- Natural Breaks\n",
    "- Quantiles\n",
    "- Percentiles\n",
    "- Std Mean\n",
    "- User Defined\n",
    "\n",
    "\n",
    "\n",
    "**NoData-verdiene presenteres med verdi -1**. \n",
    "Derfor må vi først fjerne No Data-verdiene."
   ]
  },
  {
   "cell_type": "code",
   "execution_count": 3,
   "id": "b2dbb165",
   "metadata": {},
   "outputs": [],
   "source": [
    "# Inkluder bare data som er over eller lik 0\n"
   ]
  },
  {
   "cell_type": "markdown",
   "id": "9e56ed55",
   "metadata": {},
   "source": [
    "La oss plotte dataene og se hvordan det ser ut\n",
    "- `cmap` parameter definerer fargekartet. Les mer om [valg av fargekart i matplotlib](https://matplotlib.org/3.1.0/tutorials/colors/colormaps.html)\n",
    "- `scheme` alternativ skalerer fargene i henhold til et klassifiseringsskjema (krever at `mapclassify` modulen er installert):"
   ]
  },
  {
   "cell_type": "code",
   "execution_count": null,
   "id": "fb540ac0",
   "metadata": {},
   "outputs": [],
   "source": [
    "# Plott ved hjelp av 9 klasser og klassifiser verdiene ved hjelp av \"Natural Breaks\" klassifisering\n"
   ]
  },
  {
   "cell_type": "markdown",
   "id": "0f6591cc",
   "metadata": {},
   "source": [
    "Som vi kan se fra dette kartet, er befolkningen større i sentrum, men det er også noen områder med få beboere i\n",
    "noen andre områder (hvor fargen er rød)."
   ]
  },
  {
   "cell_type": "markdown",
   "id": "2c710848",
   "metadata": {},
   "source": [
    "### Bruk av klassifiseringer på data\n",
    "\n",
    "Som nevnt, definerer `scheme` alternativet klassifiseringsskjemaet ved hjelp av\n",
    "`pysal/mapclassify`. La oss se nærmere på hvordan disse klassifiseringene fungerer."
   ]
  },
  {
   "cell_type": "code",
   "execution_count": 5,
   "id": "0b50da15",
   "metadata": {},
   "outputs": [],
   "source": []
  },
  {
   "cell_type": "markdown",
   "id": "b889e486",
   "metadata": {},
   "source": [
    "#### Natural Breaks"
   ]
  },
  {
   "cell_type": "code",
   "execution_count": null,
   "id": "a92c8e76",
   "metadata": {},
   "outputs": [],
   "source": []
  },
  {
   "cell_type": "markdown",
   "id": "d4ca8389",
   "metadata": {},
   "source": [
    "#### Quantiles (standard er 5 klasser):"
   ]
  },
  {
   "cell_type": "code",
   "execution_count": null,
   "id": "b397080f",
   "metadata": {},
   "outputs": [],
   "source": []
  },
  {
   "cell_type": "markdown",
   "id": "db2659d8",
   "metadata": {},
   "source": [
    "#### Trekk ut terskelverdiene\n",
    "\n",
    "Det er mulig å trekke ut terskelverdiene i en matrise:"
   ]
  },
  {
   "cell_type": "code",
   "execution_count": null,
   "id": "4b37a2b2",
   "metadata": {},
   "outputs": [],
   "source": []
  },
  {
   "cell_type": "markdown",
   "id": "7ddfcc8e",
   "metadata": {},
   "source": [
    "La oss bruke en av `Pysal` klassifiseringene på dataene våre og klassifisere\n",
    "befolkningen til 9 klasser\n",
    "Klassifiseringen må først initialiseres med `make()` funksjonen som tar\n",
    "antall ønskede klasser som inngangsparameter"
   ]
  },
  {
   "cell_type": "code",
   "execution_count": 9,
   "id": "a147e645",
   "metadata": {},
   "outputs": [],
   "source": [
    "# Lag en Natural Breaks klassifisering\n"
   ]
  },
  {
   "cell_type": "markdown",
   "id": "bc94ef05",
   "metadata": {},
   "source": [
    "- Nå kan vi bruke klassifiseringen på dataene våre ved å bruke `apply` -funksjonen"
   ]
  },
  {
   "cell_type": "code",
   "execution_count": null,
   "id": "a3ce4f0c",
   "metadata": {},
   "outputs": [],
   "source": [
    "# Klassifiser dataene\n",
    "\n"
   ]
  },
  {
   "cell_type": "code",
   "execution_count": null,
   "id": "0bce101c",
   "metadata": {},
   "outputs": [],
   "source": [
    "type(klassifiseringer)"
   ]
  },
  {
   "cell_type": "markdown",
   "id": "8c37942d",
   "metadata": {},
   "source": [
    "Ok, så nå har vi en DataFrame der inngangskolonnen vår ble klassifisert til 9\n",
    "forskjellige klasser (tallene 1-9) basert på [Natural Breaks\n",
    "klassifisering](http://wiki-1-1930356585.us-east-1.elb.amazonaws.com/wiki/index.php/Jenks_Natural_Breaks_Classification).\n",
    "\n",
    "Vi kan også legge til klassifiseringsverdiene direkte i en ny kolonne i vår dataframe:"
   ]
  },
  {
   "cell_type": "code",
   "execution_count": null,
   "id": "1cfa98aa",
   "metadata": {},
   "outputs": [],
   "source": [
    "# Gi nytt navn til kolonnen så vi vet at den ble klassifisert med naturlige brudd\n",
    "\n",
    "\n",
    "# Sjekk de opprinnelige verdiene og klassifiseringen\n"
   ]
  },
  {
   "cell_type": "markdown",
   "id": "ca2305e5",
   "metadata": {},
   "source": [
    "Flott, nå har vi disse verdiene i GeoDataFramen. La oss\n",
    "visualisere resultatene og se hvordan de ser ut."
   ]
  },
  {
   "cell_type": "code",
   "execution_count": null,
   "id": "32c53729",
   "metadata": {},
   "outputs": [],
   "source": [
    "# Plott\n"
   ]
  },
  {
   "cell_type": "markdown",
   "id": "d12dc8a1",
   "metadata": {},
   "source": [
    "Og her går vi, nå har vi et kart der vi har brukt en av de vanlige\n",
    "klassifiseringene for å klassifisere dataene våre i 9 klasser.\n",
    "\n",
    "\n",
    "## Plott et histogram\n",
    "\n",
    "Et histogram er en grafisk representasjon av datafordelingen. Når\n",
    "man klassifiserer data, er det alltid bra å vurdere hvordan dataene er fordelt,\n",
    "og hvordan klassifiseringsskjemaet deler verdier i forskjellige områder.\n",
    "\n",
    "- plott histogrammet ved hjelp av [pandas.DataFrame.plot.hist](https://pandas.pydata.org/pandas-docs/stable/reference/api/pandas.DataFrame.plot.hist.html)\n",
    "- Antall histogrambinner (grupper av data) kan kontrolleres ved hjelp av parameteren `bins`:"
   ]
  },
  {
   "cell_type": "code",
   "execution_count": null,
   "id": "70708402",
   "metadata": {},
   "outputs": [],
   "source": [
    "# Histogram for befolkningsrutenettet\n"
   ]
  },
  {
   "cell_type": "markdown",
   "id": "d00cd27f",
   "metadata": {},
   "source": [
    "La oss også legge til terskelverdier på toppen av histogrammet som vertikale linjer.\n",
    "\n",
    "- Natural Breaks:"
   ]
  },
  {
   "cell_type": "code",
   "execution_count": null,
   "id": "004f88fd",
   "metadata": {},
   "outputs": [],
   "source": [
    "import matplotlib.pyplot as plt\n",
    "\n",
    "# Definer klassifiserer\n",
    "\n",
    "\n",
    "# Plott histogram for befolkningsrutenettet\n",
    "\n",
    "\n",
    "# Legg til vertikale linjer for klassebrudd\n"
   ]
  },
  {
   "cell_type": "markdown",
   "id": "fdd440e4",
   "metadata": {},
   "source": [
    "- Kvartiler:"
   ]
  },
  {
   "cell_type": "code",
   "execution_count": null,
   "id": "8fcd562c",
   "metadata": {},
   "outputs": [],
   "source": [
    "# Definer klassifiserer\n",
    "\n",
    "\n",
    "# Plott histogram for befolkningsrutenettet\n"
   ]
  },
  {
   "cell_type": "markdown",
   "id": "55516b7f",
   "metadata": {},
   "source": [
    "## Bruke en egendefinert klassifisering\n",
    "\n",
    "### Multikriterium dataklassifisering\n",
    "\n",
    "La oss klassifisere geometriene i to klasser basert\n",
    "på en gitt `terskel` -parameter. Hvis området til en polygon er lavere enn terskelverdien, vil utgangskolonnen få en verdi\n",
    "0, hvis den er større, vil den få en verdi 1. Denne typen klassifisering kalles ofte en [binær\n",
    "klassifisering](https://en.wikipedia.org/wiki/Binary_classification).\n",
    "\n",
    "For å klassifisere hver rad i vår GeoDataFrame kan vi iterere over hver rad, eller vi kan bruke\n",
    "en funksjon for hver rad. I vårt tilfelle vil vi bruke en lambda funksjon for hver rad i\n",
    "vår GeoDataFrame, som returnerer en verdi basert på de vilkårene vi gir.\n",
    "\n",
    "La oss klassifisere basert på to kriterier: og finne ut rutenettceller\n",
    "\n",
    "1. Rutenettceller der befolkningen er **mindre eller lik 50** \n",
    "\n",
    "2. *og* Rutenettceller der befolkningen er **større eller lik 15** \n",
    "\n",
    "La oss først se hvordan vi klassifiserer en enkelt rad:"
   ]
  },
  {
   "cell_type": "code",
   "execution_count": null,
   "id": "264281fc",
   "metadata": {},
   "outputs": [],
   "source": []
  },
  {
   "cell_type": "code",
   "execution_count": null,
   "id": "ef703b73",
   "metadata": {},
   "outputs": [],
   "source": []
  },
  {
   "cell_type": "markdown",
   "id": "0fa0c8ae",
   "metadata": {},
   "source": [
    "La oss nå bruke dette på vår GeoDataFrame og lagre det i en kolonne kalt `\"suitable_area\"`:"
   ]
  },
  {
   "cell_type": "code",
   "execution_count": 19,
   "id": "d9109649",
   "metadata": {},
   "outputs": [],
   "source": []
  },
  {
   "cell_type": "code",
   "execution_count": null,
   "id": "51f1ea50",
   "metadata": {},
   "outputs": [],
   "source": []
  },
  {
   "cell_type": "markdown",
   "id": "213f26e3",
   "metadata": {},
   "source": [
    "Ok, vi har nye verdier i `egnet` -kolonnen.\n",
    "\n",
    "- Hvor mange polygoner passer for oss? La oss finne ut ved hjelp av en Pandas\n",
    "  funksjon kalt `value_counts()` som returnerer antall forskjellige verdier i\n",
    "  vår kolonne."
   ]
  },
  {
   "cell_type": "code",
   "execution_count": null,
   "id": "e2495b61",
   "metadata": {},
   "outputs": [],
   "source": [
    "# Få antall verdier\n"
   ]
  },
  {
   "cell_type": "markdown",
   "id": "6bf222dc",
   "metadata": {},
   "source": [
    "Ok, så det ser ut til å være 164 passende steder.\n",
    "\n",
    "- La oss se hvor de er lokalisert:"
   ]
  },
  {
   "cell_type": "code",
   "execution_count": null,
   "id": "73a84681",
   "metadata": {},
   "outputs": [],
   "source": [
    "# Plott\n"
   ]
  }
 ],
 "metadata": {
  "kernelspec": {
   "display_name": "gmgi221",
   "language": "python",
   "name": "python3"
  },
  "language_info": {
   "codemirror_mode": {
    "name": "ipython",
    "version": 3
   },
   "file_extension": ".py",
   "mimetype": "text/x-python",
   "name": "python",
   "nbconvert_exporter": "python",
   "pygments_lexer": "ipython3",
   "version": "3.11.9"
  }
 },
 "nbformat": 4,
 "nbformat_minor": 5
}
