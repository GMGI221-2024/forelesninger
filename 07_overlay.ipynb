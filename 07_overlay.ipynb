{
 "cells": [
  {
   "cell_type": "markdown",
   "id": "d91e383b",
   "metadata": {},
   "source": [
    "# 💻 Overlay\n",
    "\n",
    "[![Open In Colab](https://colab.research.google.com/assets/colab-badge.svg)](https://colab.research.google.com/github/GMGI221-2024/forelesninger/blob/main/08_overlay.ipynb)\n",
    "\n",
    "Overlay-analyser er GIS-operasjoner der to eller flere vektorlag er\n",
    "kombinert for å produsere nye geometrier. Typiske overlay-operasjoner inkluderer *union*,\n",
    "*intersection*, og *difference* - navngitt etter resultatet av kombinasjonen av to lag. I denne notebooken (inspirert av [Python for Geographic Data Analysis](https://pythongis.org/part2/chapter-06/nb/08-overlay-analysis-with-vector-data.html)) ser vi nærmere på hvordan vi kan utføre overlay operasjoner med vektor data.\n",
    "\n",
    "Den grunnleggende ideen med vektor-overlay-operasjoner er demonstrert i figuren under, hvor de grønne områdene representerer områdene som utgjør resultatet etter overlay-operasjonen. Det er viktig å huske at overlays opererer på GeoDataFrame-nivå, ikke på individuelle geometrier, og egenskapene fra begge beholdes (ofte, men ikke alltid). I praksis utføres denne operasjonen for hver form i den venstre GeoDataFrame mot hver annen form i den høyre GeoDataFrame.\n",
    "\n",
    "![Fire paneler som viser union, intersection, symmetric difference og difference av to geometrier.](https://pythongis.org/_images/vector_overlay_processes.png)\n",
    "\n",
    "\n",
    "Romlig overlay med to inputvektorlag (rektangel, sirkel). Det resulterende vektorlaget vises i grønt. *Kilde: [QGIS dokumentasjon](https://docs.qgis.org/latest/en/docs/gentle_gis_introduction/vector_spatial_analysis_buffers.html#figure-overlay-operations)*\n",
    ":::\n",
    "\n",
    "For å demonstrere hvordan disse overlay-operasjonene fungerer i praksis, vil vi utføre vektor-overlay-operasjoner mellom to polygon-datasett som representerer 1) bydelene i Oslo og 2) en 5000-meter buffer rundt Oslo S. La oss starte med å lese inn datasettene og forberede dem for analysen:"
   ]
  },
  {
   "cell_type": "code",
   "execution_count": null,
   "id": "78145314",
   "metadata": {},
   "outputs": [],
   "source": [
    "import geopandas\n",
    "import pathlib \n",
    "\n",
    "NOTEBOOK_PATH = pathlib.Path().resolve()\n",
    "DATA_MAPPE = NOTEBOOK_PATH / \"data\"\n",
    "\n",
    "bydeler = geopandas.read_file(DATA_MAPPE / \"oslo_bydeler\" /)\n",
    "oslo_s = geopandas.read_file(DATA_MAPPE / \"oslo_bydeler\" / )\n",
    "bydeler.shape"
   ]
  },
  {
   "cell_type": "code",
   "execution_count": null,
   "id": "018bf967",
   "metadata": {},
   "outputs": [],
   "source": []
  },
  {
   "cell_type": "markdown",
   "id": "17cb0580",
   "metadata": {},
   "source": [
    "Her kan vi se at bydelene inneholder MultiPolygon-geometrier som representerer til sammen 17 bydeler, mens `oslo_s` representerer et enkelt punkt for Oslo S. Siden vektor-overlay-operasjoner skjer mellom to geografiske datasett, er det nødvendig å sikre at de begge deler samme koordinatsystem og i vårt tilfelle et projisert koordinatsystem, siden vi skal bruke en metrisk buffersone.\n",
    "La oss derfor først sjekke crs-attributtene og gjøre nødvendige reprojiseringer:"
   ]
  },
  {
   "cell_type": "code",
   "execution_count": null,
   "id": "2ae1d28b",
   "metadata": {},
   "outputs": [],
   "source": []
  },
  {
   "cell_type": "markdown",
   "id": "bf584d62",
   "metadata": {},
   "source": [
    "Begge datasettene våre er i `EPSG:4326`, la oss reprojisere til `EPSG:25832` som egner seg for norske data:"
   ]
  },
  {
   "cell_type": "code",
   "execution_count": null,
   "id": "c1349a1e",
   "metadata": {},
   "outputs": [],
   "source": [
    "# Reprojiser bydeler\n",
    "\n",
    "\n",
    "# Reprojiser oslo_s\n",
    "\n"
   ]
  },
  {
   "cell_type": "markdown",
   "id": "43ba7476",
   "metadata": {},
   "source": [
    "La oss for sikkerhetsskyld dobbeltsjekke at lagene har samme crs:"
   ]
  },
  {
   "cell_type": "code",
   "execution_count": null,
   "id": "15e0379c",
   "metadata": {},
   "outputs": [],
   "source": [
    "assert bydeler.crs == oslo_s.crs, \"Ulike koordinatsystemer!\""
   ]
  },
  {
   "cell_type": "markdown",
   "id": "828e8c85",
   "metadata": {},
   "source": [
    "Supert, koordinatsystemet (CRS) stemmer overens mellom lagene. Derfor kan vi fortsette og lage en 5 kilometer buffer rundt Oslo S som vi vil bruke i våre vektor-overlay-operasjoner:"
   ]
  },
  {
   "cell_type": "code",
   "execution_count": null,
   "id": "ea92f5f4",
   "metadata": {},
   "outputs": [],
   "source": []
  },
  {
   "cell_type": "markdown",
   "id": "632d6534",
   "metadata": {},
   "source": [
    "Her har vi først lagd en kopi av `oslo_s`-laget vårt, og brukt `.buffer()`-metoden til å lage en buffer Polygon på 5000 meters radius rundt Oslo S. Vi kan nå lage et enkelt plot for å se hvordan lagene overlapper hverandre:"
   ]
  },
  {
   "cell_type": "code",
   "execution_count": null,
   "id": "a8dec5f0",
   "metadata": {},
   "outputs": [],
   "source": []
  },
  {
   "cell_type": "markdown",
   "id": "751f8365",
   "metadata": {},
   "source": [
    "## Intersection\n",
    "\n",
    "Nå kan vi utføre en overlay-analyse mellom disse to lagene. Vi skal lage et nytt lag som `intersect`(\"skjærer\") med bydelslaget. Vi bruker da metoden `.overlay()` i GeoPandas til å gjøre analysen mellom laget `bydeler` og `oslo_s_buffer`. Parameteren `how` i `overlay()`-metoden angir hvilken type overlay-analyse som utføres. De ulike metodene man kan velge mellom er `intersection`, `union`, `symmetric_difference`, `difference` og `identity`.\n",
    "\n",
    "Vi begynner med å bruke `intersection` som overlay-metode:"
   ]
  },
  {
   "cell_type": "code",
   "execution_count": null,
   "id": "00251672",
   "metadata": {},
   "outputs": [],
   "source": [
    "# Intersection\n"
   ]
  },
  {
   "cell_type": "markdown",
   "id": "10ace528",
   "metadata": {},
   "source": [
    "Vi kan nå se at vi har en GeoDataFrame med 13 rader for alle bydelene som intersecter med bufferlaget vårt. Vi kan også se at vi har med kolonner fra begge datasettene, og dermed at overaly-metoden fungerer litt likt `sjoin()` som vi brukte i en [tidligere forelesning](#05_romlig_kobling).\n",
    "\n",
    "For å lettere illustrere hvordan de ulike overlay metodene fungerer, lager vi nå en funksjon som plotter et kart før og etter overlay-analysen ved siden av hverandre:"
   ]
  },
  {
   "cell_type": "code",
   "execution_count": null,
   "id": "6c76cc32",
   "metadata": {},
   "outputs": [],
   "source": [
    "import matplotlib.pyplot as plt\n",
    "\n",
    "\n",
    "def plot_overlay(gdf1, gdf2, result, title):\n",
    "    \"\"\"\n",
    "    Creates two maps next to each other based on `gdf1`, `gdf2` and the\n",
    "    `result` GeoDataFrames.\n",
    "\n",
    "    Source: https://pythongis.org/part2/chapter-06/nb/08-overlay-analysis-with-vector-data.html#intersection\n",
    "    \"\"\"\n",
    "\n",
    "    fig, (ax1, ax2) = plt.subplots(nrows=1, ncols=2, figsize=(8, 5))\n",
    "\n",
    "    ax1 = gdf1.plot(ax=ax1)\n",
    "    ax1 = gdf2.plot(ax=ax1, color=\"red\", alpha=0.3)\n",
    "\n",
    "    result.plot(ax=ax2)\n",
    "\n",
    "    # Fetch bounds and apply to axis 2\n",
    "    xmin, ymin, xmax, ymax = gdf1.total_bounds\n",
    "\n",
    "    ax2.set_xlim(xmin, xmax)\n",
    "    ax2.set_ylim(ymin, ymax)\n",
    "\n",
    "    fig.suptitle(title, fontsize=16)\n",
    "    # Add an arrow between the plots\n",
    "    fig.text(0.49, 0.5, \"⇨\", fontsize=30, color=\"red\")\n",
    "    ax1.axis(\"off\")\n",
    "    ax2.axis(\"off\")\n",
    "    plt.tight_layout()\n",
    "    return fig, ax1, ax2"
   ]
  },
  {
   "cell_type": "markdown",
   "id": "9787ec7c",
   "metadata": {},
   "source": [
    "Med denne funksjonen kan vi nå bruke `intersection`-laget vi nettopp lagde og plotte før- og etter-resultatet:"
   ]
  },
  {
   "cell_type": "code",
   "execution_count": null,
   "id": "01d7dcd3",
   "metadata": {},
   "outputs": [],
   "source": []
  },
  {
   "cell_type": "markdown",
   "id": "37db3cea",
   "metadata": {},
   "source": [
    "Som vi kan se, beholder \"intersection\" operasjonen bydelene som krysser sirkelen og beholder alle disse geometriene i resultatet. En viktig ting å merke seg er at med `overlay()` vil den kryssende GeoDataFramen (`oslo_s_buffer`) også modifisere inputgeometriene ved å kutte dem i grenseområdene der de krysser. Dette er en av de viktigste forskjellene mellom `.overlay()` og `sjoin()` metodene, da `sjoin()` ikke vil modifisere inputgeometriene. Som nevnt tidligere, beholdes attributtdata fra begge GeoDataFramene for objektene som er en del av resultatet. I det følgende vil vi vise én etter én hvordan forskjellige overlay-operasjoner (dvs. union, difference, symmetric difference, identity) påvirker resultatene.\n",
    "\n",
    "## Union\n",
    "\n",
    "La oss bruke de samme inputdatasettene og utføre en `union`-overlay:"
   ]
  },
  {
   "cell_type": "code",
   "execution_count": null,
   "id": "02409539",
   "metadata": {},
   "outputs": [],
   "source": [
    "# Union\n"
   ]
  },
  {
   "cell_type": "code",
   "execution_count": null,
   "id": "bea917e9",
   "metadata": {},
   "outputs": [],
   "source": []
  },
  {
   "cell_type": "markdown",
   "id": "379df877",
   "metadata": {},
   "source": [
    "Når man bruker `\"union\"` overlay-operasjonen, beholdes geometriene fra begge GeoDataFrames i resultatet. Som du kan se, har antall rader økt ganske betydelig fra 17 til 22 rader. Dette skjer fordi bydelene igjen blir modifisert av `oslo_s_buffer` i områdene der geometriene krysser hverandre: bydelene blir delt i to i områder der buffergeometrien krysser bydeler-geometriene. Dette vil derfor øke antall rader i det endelige resultatet."
   ]
  },
  {
   "cell_type": "markdown",
   "id": "c8994dbe",
   "metadata": {},
   "source": [
    "## Difference og symmetric difference\n",
    "\n",
    "Noen ganger kan det være nyttig å fokusere på å trekke ut geometrier som ligger utenfor et gitt lag. Dette kan oppnås ved å bruke .overlay() med \"difference\" operatoren:"
   ]
  },
  {
   "cell_type": "code",
   "execution_count": null,
   "id": "dedea261",
   "metadata": {},
   "outputs": [],
   "source": [
    "# Difference\n"
   ]
  },
  {
   "cell_type": "code",
   "execution_count": null,
   "id": "a13c3df6",
   "metadata": {},
   "outputs": [],
   "source": []
  },
  {
   "cell_type": "markdown",
   "id": "992f564b",
   "metadata": {},
   "source": [
    "Symmetric differance-overlay-operasjonen er en interessant en. Den vil beholde geometriene og attributtene utenfor `oslo_s_buffer`-laget, samt opprette en geometri innenfor `oslo_s_buffer` som inkluderer områder som er innenfor `oslo_s_buffer`-ringen, men utenfor `bydeler`-GeoDataFramen. Det vil si, i vårt tilfelle inneholder den et lite stykke av Oslofjorden, som vist nedenfor:"
   ]
  },
  {
   "cell_type": "code",
   "execution_count": null,
   "id": "f6f09426",
   "metadata": {},
   "outputs": [],
   "source": [
    "# Symmetric Difference\n"
   ]
  },
  {
   "cell_type": "code",
   "execution_count": null,
   "id": "57e3127a",
   "metadata": {},
   "outputs": [],
   "source": []
  },
  {
   "cell_type": "code",
   "execution_count": null,
   "id": "a94341e8",
   "metadata": {},
   "outputs": [],
   "source": []
  },
  {
   "cell_type": "markdown",
   "id": "5ce70092",
   "metadata": {},
   "source": [
    "Som vi kan se i tabellen, så inneholder tabellen attributter fra bydelene og en rad med data fra `oslo_s_buffer` i den siste raden."
   ]
  },
  {
   "cell_type": "markdown",
   "id": "47dbbf8f",
   "metadata": {},
   "source": [
    "## Overlay med befolkningsdata\n",
    "\n",
    "I denne notebooken vil vi utføre en overlay-analyse for å velge de polygon-cellene i et grid-datasett som ligger innenfor Oslo. I denne\n",
    "øvelsen, bruker vi to input-datasett: et grid av statistiske polygoner med\n",
    "befolkningen i Oslo og et polygon-datasett av norske kommuner\n",
    "(`kommuner.geojson`), hvor vi skal velge bare Oslo kommune."
   ]
  },
  {
   "cell_type": "code",
   "execution_count": null,
   "id": "52082ac4",
   "metadata": {},
   "outputs": [],
   "source": [
    "import pathlib \n",
    "NOTEBOOK_PATH = pathlib.Path().resolve()\n",
    "DATA_MAPPE = NOTEBOOK_PATH / \"data\""
   ]
  },
  {
   "cell_type": "code",
   "execution_count": null,
   "id": "18ff58b6",
   "metadata": {},
   "outputs": [],
   "source": [
    "import geopandas\n",
    "\n",
    "rutenett = geopandas.read_file(DATA_MAPPE / \"ssb_rutenett\" / \"befolkning_250m_2023_akershus.shp\")\n",
    "\n",
    "kommuner = geopandas.read_file(\n",
    "    DATA_MAPPE / \"kommuner\" / \"kommuner.geojson\"\n",
    ")\n",
    "\n",
    "display(kommuner.head())"
   ]
  },
  {
   "cell_type": "markdown",
   "id": "c9b036ee-9e99-4cf1-9710-bd68e7c71a97",
   "metadata": {},
   "source": [
    "Vi kan nå velge bare Ås kommune fra kommune-datasettet."
   ]
  },
  {
   "cell_type": "code",
   "execution_count": null,
   "id": "0cc5e4ac-5eff-4810-afb5-9ba1f1c181f1",
   "metadata": {},
   "outputs": [],
   "source": []
  },
  {
   "cell_type": "markdown",
   "id": "4604e487-d4e1-4a95-99ae-7ade3ef935a7",
   "metadata": {},
   "source": [
    "Før vi fortsetter er det en god ide å sørge for at begge lagene har samme koordinatsystem:"
   ]
  },
  {
   "cell_type": "code",
   "execution_count": null,
   "id": "153a3b3a-79f3-44a2-8443-fd9dbec0562b",
   "metadata": {},
   "outputs": [],
   "source": [
    "# Sjekke at lagene har samme crs\n"
   ]
  },
  {
   "cell_type": "markdown",
   "id": "b9c4fcbc",
   "metadata": {},
   "source": [
    "La oss gjøre en rask overleggsvisualisering av de to lagene:"
   ]
  },
  {
   "cell_type": "code",
   "execution_count": null,
   "id": "d3bb7a5a",
   "metadata": {},
   "outputs": [],
   "source": [
    "# Plott lagene\n"
   ]
  },
  {
   "cell_type": "markdown",
   "id": "d9b14f53",
   "metadata": {},
   "source": [
    "Her er alle de grå rutene gridceller med befolkningsdata for Akershus fylke. Datasettet inneholder 17376 ruter.\n",
    "Det blå omrisset representerer Ås kommune. Vårt mål er nå å utføre en overlay-analyse og velge de geometriene fra rutenettet som krysser polygonet for Ås kommune.\n",
    "\n",
    "Vi vil lage et nytt lag basert på rutenett-polygoner som `intersect`-er med Ås-laget vårt. Vi kan bruke metoden `overlay()` med en `GeoDataFrame` for å utføre overlay-analysen som tar som en input 1) andre GeoDataFrames, og 2)\n",
    "parameteren `how` som kan brukes til å kontrollere hvordan overlay-analysen blir\n",
    "utført (mulige verdier er `'intersection'`, `'union'`,`'symmetric_difference'`, `'difference'`, og `'identity'`):"
   ]
  },
  {
   "cell_type": "code",
   "execution_count": null,
   "id": "4ae9debf",
   "metadata": {},
   "outputs": [],
   "source": []
  },
  {
   "cell_type": "markdown",
   "id": "d22abba7",
   "metadata": {},
   "source": [
    "La oss plotte dataene våre og se hva vi har:"
   ]
  },
  {
   "cell_type": "code",
   "execution_count": null,
   "id": "4a0bb477",
   "metadata": {},
   "outputs": [],
   "source": []
  },
  {
   "cell_type": "markdown",
   "id": "12aec719",
   "metadata": {},
   "source": [
    "Som et resultat har vi nå bare de rutenett cellene som krysser med Helsingfors\n",
    "grenser. Hvis du ser nøye etter, kan du også observere at **rutenett cellene er\n",
    "klippet basert på grensen.**\n",
    "\n",
    "- Hva med dataattributter? La oss se hva vi har:"
   ]
  },
  {
   "cell_type": "code",
   "execution_count": null,
   "id": "57716634",
   "metadata": {},
   "outputs": [],
   "source": []
  },
  {
   "cell_type": "markdown",
   "id": "d3c68ee5",
   "metadata": {},
   "source": [
    "Som vi kan se, på grunn av overleggsanalysen, inneholder datasettet attributtene\n",
    "fra begge input lagene.\n",
    "\n",
    "La oss lagre resultatrutenettet vårt som en GeoPackage."
   ]
  },
  {
   "cell_type": "code",
   "execution_count": null,
   "id": "0a83f86c",
   "metadata": {},
   "outputs": [],
   "source": []
  },
  {
   "cell_type": "markdown",
   "id": "66ad917d",
   "metadata": {},
   "source": [
    "Det er mange flere eksempler på forskjellige typer overleggsanalyse i\n",
    "[Geopandas dokumentasjon](http://geopandas.org/set_operations.html) hvor du\n",
    "kan gå og lære mer."
   ]
  }
 ],
 "metadata": {
  "kernelspec": {
   "display_name": "Python 3 (ipykernel)",
   "language": "python",
   "name": "python3"
  },
  "language_info": {
   "codemirror_mode": {
    "name": "ipython",
    "version": 3
   },
   "file_extension": ".py",
   "mimetype": "text/x-python",
   "name": "python",
   "nbconvert_exporter": "python",
   "pygments_lexer": "ipython3",
   "version": "3.11.9"
  }
 },
 "nbformat": 4,
 "nbformat_minor": 5
}
