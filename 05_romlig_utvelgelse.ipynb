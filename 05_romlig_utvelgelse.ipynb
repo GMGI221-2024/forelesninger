{
 "cells": [
  {
   "cell_type": "markdown",
   "id": "85bcbe78",
   "metadata": {},
   "source": [
    "# 💻 Romlig utvelgelse\n",
    "\n",
    "[![Open In Colab](https://colab.research.google.com/assets/colab-badge.svg)](https://colab.research.google.com/github/GMGI221-2024/forelesninger/blob/main/05_romlig_utvelgelse.ipynb)\n",
    "\n",
    "En vanlig oppgave når man jobber med romlige data er utføre ulike GIS-operasjoner basert på hvordan ulike data er plassert i forhold til hverandre. For eksempel er det svært vanlig å finne ut om et bestemt punkt er lokalisert innenfor et område, eller om en linje krysser en annen linje eller en polygon, for å velge data basert på romlig plassering. Alt dette går under det man kan kalle romlig utvelgelse. Romlige utvelgelser utføres basert på topologiske romlige relasjoner, som er grunnleggende konstruksjoner som beskriver hvordan to eller flere geometriske objekter forholder seg til hverandre med hensyn til deres posisjon og grenser. \n",
    "\n",
    "Du kan lese mer om de topologiske sammenhengene i [kapittel 6.6 i Python for Geographic Data Analysis](https://pythongis.org/part2/chapter-06/nb/05-spatial-queries.html), men for vårt formål her er figuren under en oversikt over de underliggende romlige dimensjonene til de ulike romlige objektene vi jobber med:\n",
    "\n",
    "![Romlige dimensjoner](https://pythongis.org/_images/DE-9IM_topology_interior_boundary_exterior.png)\n",
    "\n",
    "\n",
    "## Romlige predikater\n",
    "\n",
    "Når vi i GIS-analyser tester hvordan ulike geometriske objekter forholder seg til hverandre, får man et resultat som kalles et romlig predikat. De vanligste romlige predikatene er vist i figuren under og mange av disse predikatene, som `intersects`, `within`, `contains`, `overlaps` og `touches`, brukes ofte når man velger data for et spesifikt interesseområde eller når man kobler data fra ett datasett til et annet basert på den romlige relasjonen mellom lagene.\n",
    "\n",
    "![Romlige predikater](https://pythongis.org/_images/spatial-relations.png)\n",
    "\n",
    "\n",
    "Den øverste raden i figuren viser romlige predikater der geometriene A og B er klart adskilt fra hverandre, inneholder eller er innenfor hverandre, eller er identiske med hverandre. Når geometriene har minst ett punkt til felles, sies det at geometriene *intersects* (skjærer) hverandre. Dermed er alle sammenligningene i denne figuren, bortsett fra den første (disjoint), sanne, dvs. geometriene skjærer hverandre. \n",
    "\n",
    "Den nederste raden viser eksempler på romlige forhold som på en eller annen måte er litt \"spesialtilfeller\". Når to geometriske objekter berører hverandre, har de minst ett punkt til felles (ved yttergrensengrensen i dette tilfellet), men deres indre skjærer ikke hverandre. Når det indre av geometriene A og B delvis er oppå hverandre og delvis utenfor hverandre, overlapper geometriene hverandre. Det romlige predikatet for *covers* er når interiøret til geometri B nesten er helt innenfor A, men de deler minst én felles koordinat ved grensen. Tilsvarende, hvis geometri A nesten er helt inneholdt av geometri B (bortsett fra minst ett felles koordinat ved grensen), kalles det romlige predikatet *covered by*. Disse åtte eksemplene representerer noen av de vanlige romlige predikatene basert på to polygonformer.\n",
    "\n",
    "## Romlig utvelgelse i Python\n",
    "\n",
    "Når vi skal utføre romlige utvelgelser i Python er disse heldigvis allerede implementert i `shapely` og `geopandas`. Med disse bibliotekene kan vi enkelt og effektivt evaluere den topologiske relasjonen mellom geometriske objekter. I Python er alle de grunnleggende romlige predikatene tilgjengelige fra shapely-biblioteket, inkludert:\n",
    "\n",
    "* `.intersects()`\n",
    "* `.within()`\n",
    "* `.contains()`\n",
    "* `.overlaps()`\n",
    "* `.touches()`\n",
    "* `.covers()`\n",
    "* `.covered_by()`\n",
    "* `.equals()`\n",
    "* `.disjoint()`\n",
    "* `.crosses()`\n",
    "\n",
    "Vi har allerede [tidligere](#02_intersect) sett på hvordan `.intersects()` fungerer, så la oss nå utføre en punkt i polygon-analyse.\n",
    "\n",
    "## Punkt i polygon-analyse\n",
    "\n",
    "Å finne ut om et bestemt punkt er plassert innenfor eller utenfor et område,\n",
    "eller å finne ut om en linje krysser en annen linje eller polygon er\n",
    "grunnleggende romlige spørringer som ofte brukes f.eks. for å velge\n",
    "data basert på plassering. Slike romlige spørringer er en av de typiske\n",
    "første trinnene i arbeidsflyten når du gjør romlig analyse. Å utføre en\n",
    "romlig kobling (vil bli introdusert senere) mellom to romlige datasett er\n",
    "en av de mest typiske bruksområdene der Punkt-i-Polygon (PIP)-analyser\n",
    "brukes.\n",
    "\n",
    "For videre lesing om PIP og andre geometriske operasjoner,\n",
    "se kapittel 4.2 i Smith, Goodchild & Longley: [Geospatial Analysis - 6th edition](https://www.spatialanalysisonline.com/HTML/index.html).\n",
    "\n",
    "\n",
    "## Hvordan sjekke om et punkt er inne i en polygon?\n",
    "\n",
    "Beregningsteknisk er det mest vanlig å oppdage om et punkt er inne i en polygon ved å bruke en spesifikk formel kalt [Ray Casting-algoritmen](https://en.wikipedia.org/wiki/Point_in_polygon#Ray_casting_algorithm).\n",
    "Heldigvis trenger vi ikke å lage en slik funksjon selv for\n",
    "utføre Punkt-i-Polygon (PIP)-analyser. I stedet kan vi dra\n",
    "fordel av [Shapely's binære predikater](https://shapely.readthedocs.io/en/stable/manual.html#binary-predicates)\n",
    "som kan evaluere de topologiske forholdene mellom geografiske\n",
    "objekter, så som PIP, som vi er interessert i her.\n",
    "\n",
    "## Spørringer om punkt-i-polygon på `shapely` geometrier\n",
    "\n",
    "Det er stort sett to måter å utføre PIP på i Shapely:\n",
    "\n",
    "1. ved hjelp av en funksjon kalt\n",
    "   [within()](https://shapely.readthedocs.io/en/stable/manual.html#object.within)\n",
    "   som sjekker om et punkt er innenfor et polygon\n",
    "2. ved hjelp av en funksjon kalt\n",
    "   [contains()](https://shapely.readthedocs.io/en/stable/manual.html#object.contains)\n",
    "   som sjekker om et polygon inneholder et punkt\n",
    "\n",
    ":::{note}\n",
    "Selv om vi snakker her om **Point** i Polygon\n",
    "operasjon, er det også mulig å sjekke om en LineString eller Polygon er\n",
    "inne i et annen Polygon.\n",
    ":::\n",
    "\n",
    "\n",
    "La oss først lage et par punktgeometrier:"
   ]
  },
  {
   "cell_type": "code",
   "execution_count": 11,
   "id": "79fca517",
   "metadata": {},
   "outputs": [],
   "source": [
    "import shapely.geometry\n"
   ]
  },
  {
   "cell_type": "markdown",
   "id": "bf429476",
   "metadata": {},
   "source": [
    "... og en polygon:"
   ]
  },
  {
   "cell_type": "code",
   "execution_count": 12,
   "id": "a1ac71d4",
   "metadata": {},
   "outputs": [],
   "source": [
    "polygon = shapely.geometry.Polygon(\n",
    "    [\n",
    "        (24.950899, 60.169158),\n",
    "        (24.953492, 60.169158),\n",
    "        (24.953510, 60.170104),\n",
    "        (24.950958, 60.169990)\n",
    "    ]\n",
    ")"
   ]
  },
  {
   "cell_type": "code",
   "execution_count": null,
   "id": "ca8a9d72",
   "metadata": {},
   "outputs": [],
   "source": []
  },
  {
   "cell_type": "markdown",
   "id": "1c286409",
   "metadata": {},
   "source": [
    "La oss sjekke om punktene er `within()` polygonet:"
   ]
  },
  {
   "cell_type": "code",
   "execution_count": null,
   "id": "4d29bf5c",
   "metadata": {},
   "outputs": [],
   "source": []
  },
  {
   "cell_type": "code",
   "execution_count": null,
   "id": "22fa2de1",
   "metadata": {},
   "outputs": [],
   "source": []
  },
  {
   "cell_type": "markdown",
   "id": "b4ddd376",
   "metadata": {},
   "source": [
    "Det ser ut til at det første punktet er inne i polygonet, men det andre er ikke det.\n",
    "\n",
    "Vi kan snu logikken til spørringen: I stedet for å sjekke om punktet er\n",
    "innenfor polygonet, kan vi også spørre om polygonet `contains()` punktet:"
   ]
  },
  {
   "cell_type": "code",
   "execution_count": null,
   "id": "b43bf930",
   "metadata": {},
   "outputs": [],
   "source": []
  },
  {
   "cell_type": "code",
   "execution_count": null,
   "id": "5e856233",
   "metadata": {},
   "outputs": [],
   "source": []
  },
  {
   "cell_type": "markdown",
   "id": "4d750300",
   "metadata": {},
   "source": [
    ":::{hint}\n",
    "De to måtene å sjekke det romlige forholdet er komplementære og gir\n",
    "ekvivalente resultater;\n",
    "[`contains()`](https://shapely.readthedocs.io/en/stable/manual.html#object.contains)\n",
    "er invers av\n",
    "[`within()`](https://shapely.readthedocs.io/en/stable/manual.html#object.within),\n",
    "og omvendt.\n",
    "\n",
    "Så, hvilken skal du bruke? Vel, det avhenger av:\n",
    "\n",
    "-  hvis du har **mange punkter og bare ett polygon** og du prøver å finne ut\n",
    "   hvilket av dem som er inne i polygonet: Da må du kanskje iterere over punktene\n",
    "   og sjekke ett om gangen om det er **`within()`** polygonet.\n",
    "-  hvis du har **mange polygoner og bare ett punkt** og du vil finne ut\n",
    "   hvilket polygon som inneholder punktet: Da må du kanskje iterere over polygonene\n",
    "   til du finner et polygon som **`contains()`** det spesifiserte punktet\n",
    ":::\n",
    "\n",
    "\n",
    "## Spørringer om punkt-i-polygon på `geopandas.GeoDataFrame`s\n",
    "\n",
    "I det følgende praktiske eksempelet finner vi ut hvilke av adressene vi fikk\n",
    "i [geokodingseksjonen](geokoding_i_geopandas) som ligger innenfor en bestemt\n",
    "bydel i Oslo.\n"
   ]
  },
  {
   "cell_type": "code",
   "execution_count": 18,
   "id": "9f162f56",
   "metadata": {},
   "outputs": [],
   "source": [
    "import pathlib\n",
    "NOTEBOOK_PATH = pathlib.Path().resolve()\n",
    "DATA_MAPPE = NOTEBOOK_PATH / \"data\""
   ]
  },
  {
   "cell_type": "code",
   "execution_count": null,
   "id": "552f3524",
   "metadata": {},
   "outputs": [],
   "source": [
    "import geopandas\n"
   ]
  },
  {
   "cell_type": "code",
   "execution_count": null,
   "id": "24ec306b",
   "metadata": {},
   "outputs": [],
   "source": []
  },
  {
   "cell_type": "markdown",
   "id": "a27f00c6",
   "metadata": {},
   "source": [
    "Spesielt ønsker vi å finne ut hvilke punkter som er innenfor bydelen \"Gamle Oslo\". La oss begynne med å få et separat datasett for\n",
    "denne bydele, laste in adressene, og plotte et flerlagskart\n",
    "som viser alle bydelene, \"Gamle Oslo\" og alle punktene i\n",
    "ett kart:"
   ]
  },
  {
   "cell_type": "code",
   "execution_count": null,
   "id": "ef488856",
   "metadata": {},
   "outputs": [],
   "source": []
  },
  {
   "cell_type": "code",
   "execution_count": 22,
   "id": "2c891529",
   "metadata": {},
   "outputs": [],
   "source": []
  },
  {
   "cell_type": "markdown",
   "id": "f29e83a7",
   "metadata": {},
   "source": [
    ":::{admonition} Plotting av flere kartlag\n",
    ":class: hint\n",
    "\n",
    "For å plotte flere kartlag i én figur, bruk `ax` parameteren for å spesifisere i\n",
    "hvilke *akser* data skal plottes. \n",
    "\n",
    "Den enkleste måten å få en *akse* er å lagre den første `plot()`ens\n",
    "returverdi (se nedenfor). Et annet alternativ er å lage [`subplots()`](https://geo-python-site.readthedocs.io/en/latest/notebooks/L7/advanced-plotting.html#using-subplots), muligens med bare en rad og en kolonne.\n",
    ":::"
   ]
  },
  {
   "cell_type": "code",
   "execution_count": null,
   "id": "d591c2d3",
   "metadata": {},
   "outputs": [],
   "source": []
  },
  {
   "cell_type": "markdown",
   "id": "3c43659d",
   "metadata": {},
   "source": [
    "Noen punkter er innenfor 'Gamle Oslo', men andre er det ikke. For å finne\n",
    "ut hvilke som er de inne i bydelen, kan vi bruke en **punkt-i-polygon\n",
    "spørring**, denne gangen på en hel `geopandas.GeoDataFrame`. Metoden\n",
    "`within()` returnerer boolske (`True`/`False`) verdier som indikerer om eller ikke\n",
    "en rads geometri er inni den angitte *andre* geometrien:\n",
    "\n",
    "\n",
    ":::{admonition} geometri vs. geometrikolonne\n",
    ":class: caution\n",
    "\n",
    "I eksempelet nedenfor bruker vi `gamle_oslo.at[0, \"geometry\"]` for å få en enkelt\n",
    "verdi, et `shapely.geometry.Polygon`, i stedet for en hel kolonne (en\n",
    "`GeoSeries`). Dette er for å matche hver rad's geometri av hele\n",
    "`adresser`-dataframen mot *det samme polygonet*. Hvis, i motsetning, vi ville\n",
    "kjøre `within()` mot en kolonne, ville operasjonen bli utført radvis,\n",
    "dvs. det første adressepunktet ville bli sjekket mot det første polygonet, det\n",
    "andre adressepunktet mot det andre polygonet, og så videre.\n",
    "\n",
    "Sjekk [dokumentasjonen for\n",
    "`within()`](https://geopandas.org/en/stable/docs/reference/api/geopandas.GeoSeries.within.html)\n",
    "for å lære mer!\n",
    ":::"
   ]
  },
  {
   "cell_type": "code",
   "execution_count": null,
   "id": "7e632140",
   "metadata": {},
   "outputs": [],
   "source": []
  },
  {
   "cell_type": "markdown",
   "id": "30e619cc",
   "metadata": {},
   "source": [
    "Denne listen med boolske verdier, også kalt en *maske-array* kan brukes til å filtrere\n",
    "input dataframen:"
   ]
  },
  {
   "cell_type": "code",
   "execution_count": null,
   "id": "f6d3e143",
   "metadata": {},
   "outputs": [],
   "source": []
  },
  {
   "cell_type": "markdown",
   "id": "bd420c87",
   "metadata": {},
   "source": [
    "Til slutt, la oss plotte denne listen med adresser en gang til for visuelt å verifisere\n",
    "at alle av dem, faktisk, er plassert i 'Gamle Oslo':"
   ]
  },
  {
   "cell_type": "code",
   "execution_count": null,
   "id": "5ab8a684",
   "metadata": {},
   "outputs": [],
   "source": []
  },
  {
   "cell_type": "markdown",
   "id": "74a1939d",
   "metadata": {},
   "source": [
    "Perfekt! Nå sitter vi igjen med bare de (gyldne) punktene som faktisk er\n",
    "inne i det røde polygonet. Det er akkurat det vi ønsket!"
   ]
  }
 ],
 "metadata": {
  "kernelspec": {
   "display_name": "gmgi221",
   "language": "python",
   "name": "python3"
  },
  "language_info": {
   "codemirror_mode": {
    "name": "ipython",
    "version": 3
   },
   "file_extension": ".py",
   "mimetype": "text/x-python",
   "name": "python",
   "nbconvert_exporter": "python",
   "pygments_lexer": "ipython3",
   "version": "3.11.9"
  }
 },
 "nbformat": 4,
 "nbformat_minor": 5
}
