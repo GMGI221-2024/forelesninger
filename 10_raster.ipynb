{
 "cells": [
  {
   "cell_type": "markdown",
   "metadata": {},
   "source": [
    "# 💻 Raster\n",
    "\n",
    "<div class=\"alert alert-info\">\n",
    "\n",
    "**Ekstra biblioteker**\n",
    "\n",
    "Senere i denne notebooken skal vi bruke bibliotekene `xarray` og `rioxarray`, det kan være en god ide å installere de allerede nå, så det er klart til bruk senere:\n",
    "\n",
    "`conda install -c conda-forge xarray rioxarray`\n",
    "\n",
    "</div>\n",
    "\n",
    "Rasterdata er mye brukt til å representere og lagre data om kontinuerlige overflater, der hver piksel inneholder spesifikk informasjon (karakteristikk, utstråling, spektralsignaturer) om et spesifikt område av jorden, for eksempel et 10x10 meter område. Denne notebooken gir en introduksjon til behandling av rasterdata i Python, og er basert på [kapittel 7 i Python for Geographic Data Analysis](https://pythongis.org/part2/chapter-07/index.html) \n",
    "\n",
    "Det er forskjellige grunner til at du kanskje vil lagre dataene dine i rasterformat:\n",
    "\n",
    "- Det er en enkel datastruktur: En matrise av celler med verdier som representerer informasjon om den observerte overflaten/fenomenene\n",
    "- Det er en effektiv måte å lagre data fra store sammenhengende flater\n",
    "- Det er et kraftig format som kan brukes til ulike romlige og statistiske analyser\n",
    "- Du kan utføre raske overlay med flere lag\n",
    "\n",
    "## Arbeide med rasterdata i Python\n",
    "\n",
    "Det er en rekke biblioteker som er mye brukt når du arbeider med rasterdata i Python:\n",
    "\n",
    "- `xarray` gir en brukervennlig og intuitiv måte å jobbe med flerdimensjonale rasterdata med koordinater og attributter (noe lik `geopandas` som brukes til vektordatabehandling),\n",
    "- `rioxarray` gir metoder for å utføre GIS-relaterte operasjoner med rasterdata (f.eks. lesing/skriving, reprojisering, klipping, resampling),\n",
    "- \"xarray-spatial\" gir metoder for å analysere rasterdata (f.eks. fokale/sonale operasjoner, overflateanalyse, banefinning),\n",
    "- `rasterio` kjernebibliotek for arbeid med GIS-rasterdata. `rioxarray` er en utvidelse av dette biblioteket som bringer de samme funksjonalitetene på toppen av `xarray`-biblioteket,\n",
    "- `numpy` er et kjerne-bibliotek i Python for numerisk databehandling som brukes til å representere og arbeide med flerdimensjonale arrays. `numpy` har stor innflytelse på hvordan de andre rasterbibliotekene fungerer og kan brukes til å generere flerdimensjonale arrays fra bunnen av.\n",
    "- \n",
    "## Lage et enkelt rasterlag ved å bruke `numpy`\n",
    "\n",
    "For å få en bedre følelse av hvordan rasterdataene ser ut, kan vi starte med å lage en enkel todimensjonal array i Python ved å bruke `numpy`. I det følgende vil vi modifisere rasterlaget til å representere et enkelt terreng som har en høyde midt i rutenettet. Vi gjør dette ved å sette høyere verdier i midten mens de andre verdiene er representert med verdi 0. La oss starte med å importere `numpy` og `matplotlib`-biblioteket som vi bruker for å visualisere dataene våre:"
   ]
  },
  {
   "cell_type": "code",
   "execution_count": null,
   "metadata": {},
   "outputs": [],
   "source": [
    "import numpy as np\n",
    "import matplotlib.pyplot as plt"
   ]
  },
  {
   "cell_type": "markdown",
   "metadata": {},
   "source": [
    "Å lage et enkelt 2D-rasterlag (en 2D-matrise) med 10x10-matrise kan enkelt gjøres ved å bruke en `numpy`-metode `.zeros()` med fyller cellene (piksler) med nuller. Hver null representerer en standard pikselverdi (f.eks. 0 høyde). Du kan tenke på dette som et tomt rasternett:"
   ]
  },
  {
   "cell_type": "code",
   "execution_count": null,
   "metadata": {},
   "outputs": [],
   "source": []
  },
  {
   "cell_type": "markdown",
   "metadata": {},
   "source": [
    "Nå har vi en enkel 2D-matrise fylt med nuller. Deretter modifiserer vi rasterlaget for å representere et enkelt terreng og legger til større tall i midten av rutenettet ved å sette høyere verdier i midten. Vi kan gjøre dette ved å *{term}`slice`* numpy-matrisen ved å bruke indeksene til matrisen og oppdatere tallene på disse stedene til å være høyere. Å skjære \"numpy\"-matriser skjer på lignende måte som når du arbeider med Python-lister og får tilgang til elementene i en liste (se kapittel 2.2). Men i dette tilfellet gjør vi dette i to dimensjoner ved å få tilgang til verdiene som er lagret i spesifikke rader og kolonner ved å følge syntaksen: `[start-rad-idx: end-row-idx, start-col-idx: end-col- idx]`. Dermed kan vi oppdatere verdiene i vår 2D-matrise som følger:"
   ]
  },
  {
   "cell_type": "code",
   "execution_count": null,
   "metadata": {},
   "outputs": [],
   "source": []
  },
  {
   "cell_type": "markdown",
   "metadata": {},
   "source": [
    "Her oppdaterte vi først cellene mellom den fjerde og syvende raden og kolonnen (`[4:7, 4:7]`) til å ha en verdi `5`, og deretter oppdaterte vi midten av matrisen til å representere toppen av bakken med verdien `10`. Som en Resultatet har vi et enkelt rasterlag som simulerer et enkelt terreng. Vi kan også plotte dette rasterlaget ved å bruke `matplotlib`-biblioteket og dets `.imshow()`-funksjon som kan brukes til å visualisere arrays:"
   ]
  },
  {
   "cell_type": "code",
   "execution_count": null,
   "metadata": {},
   "outputs": [],
   "source": []
  },
  {
   "cell_type": "markdown",
   "metadata": {},
   "source": []
  },
  {
   "cell_type": "markdown",
   "metadata": {},
   "source": [
    "# Introduksjon til datastrukturer i xarray\n",
    "\n",
    "Nå som du har lært litt grunnleggende om rasterdata og hvordan du lager en enkel 2-dimensjonal raster-array ved å bruke \"numpy\", fortsetter vi å utforske på en mer omfattende måte hvordan du arbeider med virkelige rasterdata ved å bruke \"xarray\" og `rioxarray`-biblioteker (+ andre relevante biblioteker knyttet til dem). `xarray`-biblioteket er et svært nyttig verktøy for å lagre, representere og manipulere rasterdata, mens `rioxarray` gir forskjellige rasterbehandlingsfunksjoner (GIS) på toppen av `xarray`-datastrukturene, for eksempel lesing og skriving av flere forskjellige rasterformater og utføre ulike geoberegningsoppgaver. Under panseret bruker `rioxarray` et annet Python-bibliotek kalt `rasterio` (som fungerer med N-dimensjonale `numpy`-matriser), men fordelen med `xarray` og `rioxarray` er at de gir en enklere og mer intuitiv måte å jobbe med rasterdatalag, på en litt lignende måte som å jobbe med vektordata ved å bruke `geopandas`.\n",
    "\n",
    "Når du arbeider med rasterdata har du vanligvis ulike lag som representerer ulike geografiske trekk ved verden (f.eks. høyde, temperatur, nedbør osv.), og disse dataene blir muligens fanget opp på ulike tider av året/dagen/timen, noe som betyr at du har longitudinelle observasjoner fra samme område, som utgjør tidsseriedata. Oftere enn ikke må du kombinere informasjon fra disse lagene for å kunne gjennomføre meningsfulle analyser basert på dataene, for eksempel å lage en værmelding. En av de største fordelene med \"xarray\" er at du enkelt kan lagre, kombinere og analysere alle disse forskjellige lagene via et enkelt objekt, det vil si et \"Dataset\", som vist i figur 7.2.\n",
    "\n",
    "De to grunnleggende datastrukturene som tilbys av 'xarray'-biblioteket er 'DataArray' og 'Dataset' (Figur 7.2). Begge bygger på og utvider styrkene til bibliotekene \"numpy\" og \"pandas\". 'DataArray' er en merket N-dimensjonal array som ligner på 'pandas.Series' men fungerer med rasterdata (lagret som 'numpy' arrays). \"Datasettet\" er igjen en flerdimensjonal array-database i minnet som inneholder flere \"DataArray\"-objekter. I tillegg til variablene som inneholder observasjonene av et gitt fenomen, har du også `x`- og `y`-koordinatene til observasjonene lagret i separate lag, samt metadata som gir relevant informasjon om dataene dine, for eksempel Koordinatreferansesystem og /eller tid. Dermed er et \"datasett\" som inneholder rasterdata veldig likt \"geopandas.GeoDataFrame\", og faktisk kan forskjellige \"xarray\"-operasjoner føles veldig kjent hvis du har lært det grunnleggende om \"pandas\" og \"geopandas\" dekket i kapittel 3 og 6.\n",
    "\n",
    "\n",
    "![***Figure 7.2.** Key `xarray` data structures. Image source: Xarray Community (2024), lisensiert under Apache 2.0.*](https://docs.xarray.dev/en/stable/_images/dataset-diagram.png)\n",
    "\n",
    "***Figur 7.2** Nøkkel \"xarray\" datastrukturer. Bildekilde: [Xarray Community](https://tutorial.xarray.dev/fundamentals/01_data_structures.html) (2024), lisensiert under Apache 2.0.*\n",
    "\n",
    "Noen av fordelene med \"xarray\" inkluderer:\n",
    "\n",
    "- Et mer intuitivt og brukervennlig grensesnitt for å jobbe med flerdimensjonale arrays (sammenlignet f.eks. med \"numpy\")\n",
    "- Muligheten til å velge og kombinere data langs en dimensjon på tvers av alle arrays i et \"Datasett\" samtidig\n",
    "- Kompatibilitet med et stort økosystem av Python-biblioteker som fungerer med arrays/rasterdata\n",
    "- Tett integrering av funksjonaliteter fra velkjente Python-dataanalysebiblioteker, som \"pandas\", \"numpy\", \"matplotlib\" og \"dask\"."
   ]
  },
  {
   "cell_type": "markdown",
   "metadata": {},
   "source": [
    "## Lese inn en fil\n",
    "\n",
    "Vi skal nå bruke `xarray` og `rioaxarray` til å lese inn rasterfilen vår. `xarray` og `rioaxarray` er ikke en del av oppsettet vi satte opp i `conda`-miljøet i starten av kurset. Hvis du ikke har installert det på egenhånd, kan det derfor være nødvendig å kjøre `conda install -c conda-forge xarray rioxarray` for å sørge for at den neste delen av notebooken fungerer.\n"
   ]
  },
  {
   "cell_type": "code",
   "execution_count": null,
   "metadata": {},
   "outputs": [],
   "source": [
    "import xarray as xr\n",
    "import rasterio\n",
    "from osgeo import gdal\n",
    "import pathlib\n",
    "NOTEBOOK_PATH = pathlib.Path().resolve()\n",
    "DATA_MAPPE = NOTEBOOK_PATH / \"data\"\n",
    "\n",
    "import rioxarray\n",
    "\n",
    "url = DATA_MAPPE/\"Aas_20240625.tif\"\n"
   ]
  },
  {
   "cell_type": "markdown",
   "metadata": {},
   "source": [
    "Nå har vi lest GeoTIFF-filen inn i en `xarray.Dataset` datastruktur som vi lagret i en variabel `data`. \"Datasettet\" inneholder de faktiske dataverdiene for rastercellene, samt annen relevant attributtinformasjon relatert til dataene"
   ]
  },
  {
   "cell_type": "code",
   "execution_count": null,
   "metadata": {},
   "outputs": [],
   "source": []
  },
  {
   "cell_type": "code",
   "execution_count": null,
   "metadata": {},
   "outputs": [],
   "source": [
    "# Koordinatene i datasettet\n"
   ]
  },
  {
   "cell_type": "code",
   "execution_count": null,
   "metadata": {},
   "outputs": [],
   "source": [
    "# Projeksjonen til datasettet\n"
   ]
  },
  {
   "cell_type": "code",
   "execution_count": null,
   "metadata": {},
   "outputs": [],
   "source": [
    "# Variabler i datasettet\n"
   ]
  },
  {
   "cell_type": "code",
   "execution_count": null,
   "metadata": {},
   "outputs": [],
   "source": [
    "# Hvor mange og hvilke bånd\n"
   ]
  },
  {
   "cell_type": "markdown",
   "metadata": {},
   "source": [
    "### NDVI"
   ]
  },
  {
   "cell_type": "markdown",
   "metadata": {},
   "source": [
    "En vanlig operasjon er å beregne `NDVI` (Normalized difference vegetation index), noe som ganske enkelt lar seg gjøre:"
   ]
  },
  {
   "cell_type": "code",
   "execution_count": null,
   "metadata": {},
   "outputs": [],
   "source": [
    "NiR=data['band_data'][3,:,:]#Band 4 as counting starts from 0\n",
    "Red=data['band_data'][2,:,:]#Band 3 as counting starts from 0\n",
    "NDVI=(NiR-Red)/(NiR+Red)"
   ]
  },
  {
   "cell_type": "code",
   "execution_count": null,
   "metadata": {},
   "outputs": [],
   "source": [
    "NDVI"
   ]
  },
  {
   "cell_type": "code",
   "execution_count": null,
   "metadata": {},
   "outputs": [],
   "source": [
    "print('The variable type of the data:',type(NDVI))\n",
    "print('The size of the data (first band):', NDVI.shape)\n",
    "print('Minimum:', NDVI.min())\n",
    "print('Maximum:', NDVI.max())\n",
    "print('Mean:', NDVI.mean())\n",
    "print('STD:', NDVI.std())\n",
    "print('Data type of the array:',NDVI.dtype)"
   ]
  },
  {
   "cell_type": "markdown",
   "metadata": {},
   "source": [
    "Vi kan også plotte NDVI-utregningen med `plt.imshow()`"
   ]
  },
  {
   "cell_type": "code",
   "execution_count": null,
   "metadata": {},
   "outputs": [],
   "source": [
    "plt.imshow(NDVI,vmin=-0.3, vmax=1,cmap='RdBu')"
   ]
  },
  {
   "cell_type": "markdown",
   "metadata": {},
   "source": [
    "## Videre lesning\n",
    "\n",
    "Hvis du ønsker å lese mer om å jobbe med rasterdata i Python anbefaler jeg å ta en titt på:\n",
    "\n",
    "- [Raster operasjoner i `Python for Geographic Data Analysis`](https://pythongis.org/part2/chapter-07/nb/02-common-raster-operations.html)\n",
    "- [Kapittel 11, 12 og 13 i `Introduction to GIS Programming`](https://geog-312.gishub.org/book/geospatial/rasterio.html)"
   ]
  },
  {
   "cell_type": "markdown",
   "metadata": {},
   "source": []
  }
 ],
 "metadata": {
  "kernelspec": {
   "display_name": "gmgi221-teacher",
   "language": "python",
   "name": "python3"
  },
  "language_info": {
   "codemirror_mode": {
    "name": "ipython",
    "version": 3
   },
   "file_extension": ".py",
   "mimetype": "text/x-python",
   "name": "python",
   "nbconvert_exporter": "python",
   "pygments_lexer": "ipython3",
   "version": "3.11.9"
  }
 },
 "nbformat": 4,
 "nbformat_minor": 2
}
