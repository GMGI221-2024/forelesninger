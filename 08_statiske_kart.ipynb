{
 "cells": [
  {
   "cell_type": "markdown",
   "id": "e66699a6",
   "metadata": {},
   "source": [
    "# 💻 Statiske kart\n",
    "\n",
    "[![Open In Colab](https://colab.research.google.com/assets/colab-badge.svg)](https://colab.research.google.com/github/GMGI221-2024/forelesninger/blob/main/11_statiske_kart.ipynb)\n",
    "\n",
    "I løpet av de siste ukene har vi allerede blitt kjent med plotting av\n",
    "grunnleggende statiske kart ved hjelp av\n",
    "[`geopandas.GeoDataFrame.plot()`](http://geopandas.org/mapping.html), for\n",
    "eksempel i leksjonene [4](#04_geopandas),\n",
    "[7](#07_romlig_kobling), og [9](#09_reklassifisering). Vi lærte også\n",
    "at `geopandas.GeoDataFrame.plot()` bruker `matplotlib.pyplot`\n",
    "biblioteket, og at [de fleste av argumentene og alternativene blir akseptert av\n",
    "geopandas](https://matplotlib.org/stable/api/pyplot_summary.html).\n",
    "\n",
    "For å friske opp hukommelsen om det grunnleggende i å plotte kart, la oss lage et statisk\n",
    "befolkningskart over Oslo, som også viser veier og\n",
    "metro linjer (tre lag, overlappet hverandre). Husk at inputdataene må være i samme koordinatsystem!\n",
    "\n",
    "\n",
    "## Data\n",
    "\n",
    "Vi vil bruke tre forskjellige datasett:\n",
    "- Befolkningsrutenettet for Oslo som vi brukte i [leksjon\n",
    "  09](#09_reklassifisering), som ligger i `DATA_MAPPE /\n",
    "\"ssb_rutenett\"`,\n",
    "- T-bane nettverket i Oslo, som er hentet fra OpenStreetMap,\n",
    "  og\n",
    "- et forenklet nettverk av de største veiene i Oslo,\n",
    "  også hentet fra OpenStreetMap."
   ]
  },
  {
   "cell_type": "code",
   "execution_count": 19,
   "id": "afd82f26",
   "metadata": {},
   "outputs": [],
   "source": [
    "import pathlib\n",
    "NOTEBOOK_PATH = pathlib.Path().resolve()\n",
    "DATA_MAPPE = NOTEBOOK_PATH / \"data\""
   ]
  },
  {
   "cell_type": "code",
   "execution_count": 20,
   "id": "a364ee85",
   "metadata": {},
   "outputs": [],
   "source": [
    "import geopandas\n",
    "import numpy\n",
    "\n",
    "rutenett = geopandas.read_file(\n",
    "    DATA_MAPPE\n",
    "    / \"ssb_rutenett\"\n",
    "    / \"\"\n",
    ")\n",
    "\n",
    "tbane = geopandas.read_file(DATA_MAPPE / \"osm_data\" / \"\")\n",
    "\n",
    "veier = geopandas.read_file(DATA_MAPPE / \"osm_data\" / \"\")"
   ]
  },
  {
   "cell_type": "markdown",
   "id": "32790cb8",
   "metadata": {},
   "source": [
    ":::{admonition} Koordinatreferansesystemer\n",
    ":class: attention\n",
    "\n",
    "Husk at forskjellige geo-dataframes må være i samme koordinatsystem\n",
    "før de plottes på samme kart. `geopandas.GeoDataFrame.plot()` utfører ikke\n",
    "reprosjisering av data automatisk.\n",
    "\n",
    "Du kan alltid sjekke det med en enkel `assert` uttalelse.\n",
    ":::"
   ]
  },
  {
   "cell_type": "code",
   "execution_count": null,
   "id": "f50429b7",
   "metadata": {
    "tags": [
     "raises-exception"
    ]
   },
   "outputs": [],
   "source": [
    "assert rutenett.crs == tbane.crs == veier.crs, \"Inndataenes CRS er forskjellige\""
   ]
  },
  {
   "cell_type": "markdown",
   "id": "27707cc0",
   "metadata": {},
   "source": [
    "Hvis flere datasett ikke deler et felles CRS, finn ut først hvilket CRS\n",
    "de har tilknyttet (hvis noe!), deretter transformere dataene til et felles referansesystem:"
   ]
  },
  {
   "cell_type": "code",
   "execution_count": null,
   "id": "2f504170",
   "metadata": {},
   "outputs": [],
   "source": []
  },
  {
   "cell_type": "code",
   "execution_count": null,
   "id": "d5257ef5",
   "metadata": {},
   "outputs": [],
   "source": []
  },
  {
   "cell_type": "code",
   "execution_count": null,
   "id": "28b1ecb1",
   "metadata": {},
   "outputs": [],
   "source": []
  },
  {
   "cell_type": "code",
   "execution_count": 7,
   "id": "b5d8954b",
   "metadata": {},
   "outputs": [],
   "source": []
  },
  {
   "cell_type": "code",
   "execution_count": 8,
   "id": "00e16734",
   "metadata": {},
   "outputs": [],
   "source": [
    "assert rutenett.crs == tbane.crs == veier.crs, \"Inndataenes CRS er forskjellige\""
   ]
  },
  {
   "cell_type": "markdown",
   "id": "a83a95a7",
   "metadata": {},
   "source": [
    "## Plotting et flerlagskart\n",
    "\n",
    ":::{admonition} Sjekk forståelsen din\n",
    ":class: hint\n",
    "\n",
    "Fullfør de neste trinnene i ditt eget tempo (tøm først kodecellene).\n",
    "Sørg for å gå tilbake til tidligere leksjoner hvis du føler deg usikker på hvordan du fullfører\n",
    "en oppgave.\n",
    "\n",
    "- Visualiser et flerlagskart ved hjelp av `geopandas.GeoDataFrame.plot()` metoden;\n",
    "- først, plott befolkningsrutenettet ved hjelp av et 'kvantil' klassifiseringsskjema,\n",
    "- deretter, legg til veinettverk og tbane-linjer i samme plott (husk `ax`\n",
    "  parameter)\n",
    ":::\n",
    "\n",
    "\n",
    "Husk følgende alternativer som kan sendes til `plot()`:\n",
    "- stil polygonlaget:\n",
    "    - definer et klassifiseringsskjema ved hjelp av `scheme` parameteren\n",
    "    - [endre fargekartet ved hjelp av\n",
    "      `cmap`](https://matplotlib.org/stable/tutorials/colors/colormaps.html)\n",
    "    - kontroller lagets gjennomsiktighet med `alpha` parameteren (`0` er fullt\n",
    "      gjennomsiktig, `1` fullt ugjennomsiktig)\n",
    "- stil linjelagene:\n",
    "    - juster [linjefargen](https://matplotlib.org/stable/api/colors_api.html) ved hjelp av\n",
    "      `color` parameteren\n",
    "    - endre `linewidth`, etter behov\n",
    "\n",
    "Lagene har forskjellige omfang (`veier` dekker et større område). Du kan\n",
    "bruke aksenes (`ax`) metoder `set_xlim()` og `set_ylim()` for å sette den horisontale\n",
    "og vertikale utstrekningen av kartet (f.eks. til en geodataframes `total_bounds`)."
   ]
  },
  {
   "cell_type": "code",
   "execution_count": null,
   "id": "d916dc17",
   "metadata": {},
   "outputs": [],
   "source": []
  },
  {
   "cell_type": "markdown",
   "id": "e656ece7",
   "metadata": {},
   "source": [
    "## Legge til en legend/tegnforklaring\n",
    "\n",
    "For å plotte en legend/tegnforklaring for et kart, legg til parameteren `legend=True`.\n",
    "\n",
    "For figurer uten et klassifiserings-`scheme`, består legenden av en farget\n",
    "gradient bar. Legend er en instans av\n",
    "[`matplotlib.pyplot.colorbar.Colorbar`](https://matplotlib.org/stable/api/_as_gen/matplotlib.pyplot.colorbar.html),\n",
    "og alle argumenter definert i `legend_kwds` blir sendt gjennom til den. Se nedenfor\n",
    "hvordan du bruker `label` egenskapen for å sette *legend tittelen*:"
   ]
  },
  {
   "cell_type": "code",
   "execution_count": null,
   "id": "270a26e5",
   "metadata": {},
   "outputs": [],
   "source": []
  },
  {
   "cell_type": "markdown",
   "id": "814fe489",
   "metadata": {},
   "source": [
    ":::{admonition} Sett andre `Colorbar` parametere\n",
    ":class: hint\n",
    "\n",
    "Sjekk ut [`matplotlib.pyplot.colorbar.Colorbar`’s\n",
    "dokumentasjon](https://matplotlib.org/stable/api/_as_gen/matplotlib.pyplot.colorbar.html)\n",
    "og eksperimenter med andre parametere! Alt du legger til i `legend_kwds`\n",
    "ordboken vil bli sendt til fargebaren.\n",
    ":::\n",
    "\n",
    "\n",
    "---\n",
    "\n",
    "For figurer som bruker et klassifisering `scheme`, på den annen side, `plot()`\n",
    "lager en\n",
    "[`matplotlib.legend.Legend`](https://matplotlib.org/stable/api/legend_api.html#matplotlib.legend.Legend).\n",
    "Igjen, `legend_kwds` blir sendt gjennom, men parameterne er litt\n",
    "forskjellige: for eksempel, bruk `title` i stedet for `label` for å sette legenden\n",
    "tittel:"
   ]
  },
  {
   "cell_type": "code",
   "execution_count": null,
   "id": "9dac9267",
   "metadata": {},
   "outputs": [],
   "source": []
  },
  {
   "cell_type": "markdown",
   "id": "6f60d498",
   "metadata": {},
   "source": [
    ":::{admonition} Sett andre `Legend` parametere\n",
    ":class: hint\n",
    "\n",
    "Sjekk ut [`matplotlib.pyplot.legend.Legend`’s\n",
    "dokumentasjon](https://matplotlib.org/stable/api/legend_api.html#matplotlib.legend.Legend),\n",
    "og eksperimenter med andre parametere! Alt du legger til i `legend_kwds`\n",
    "ordboken vil bli sendt til legenden.\n",
    "\n",
    "Hvilket `legend_kwds` nøkkelord vil spre legenden over to kolonner?\n",
    ":::\n",
    "\n",
    "\n",
    "## Legge til et basekart\n",
    "\n",
    "For bedre orientering er det ofte nyttig å legge til et basekart i et kartplott. En\n",
    "basekart, for eksempel, fra kartleverandører som\n",
    "[OpenStreetMap](https://osm.org/) eller [Stamen](https://maps.stamen.com/), legger til\n",
    "gater, stedsnavn, og annen kontekstuell informasjon.\n",
    "\n",
    "Python-pakken [contextily](https://contextily.readthedocs.io/) tar seg av\n",
    "nedlasting av nødvendige kartfliser og gjengir dem i en geopandas plot.\n",
    "\n",
    ":::{admonition} Web Mercator\n",
    ":class: caution\n",
    "\n",
    "Kartfliser fra online kartleverandører er typisk i [Web Mercator-projeksjon\n",
    "(EPSG:3857)](http://spatialreference.org/ref/sr-org/epsg3857-wgs84-web-mercator-auxiliary-sphere/).\n",
    "Det er generelt tilrådelig å transformere alle andre lag til `EPSG:3857`, også.\n",
    ":::"
   ]
  },
  {
   "cell_type": "code",
   "execution_count": 12,
   "id": "2a4b60b0",
   "metadata": {},
   "outputs": [],
   "source": []
  },
  {
   "cell_type": "markdown",
   "id": "d572bfbb",
   "metadata": {},
   "source": [
    "For å legge til et bakgrunnskart i et eksisterende plot, bruk\n",
    "[`contextily.add_basemap()`](https://contextily.readthedocs.io/en/latest/intro_guide.html)\n",
    "funksjonen, og gi plotets `ax`-objektet som ble lagd i et tidligere trinn."
   ]
  },
  {
   "cell_type": "code",
   "execution_count": null,
   "id": "0643f350",
   "metadata": {},
   "outputs": [],
   "source": []
  },
  {
   "cell_type": "markdown",
   "id": "d8197eee",
   "metadata": {},
   "source": [
    "[Det er mange\n",
    "andre nettbaserte kart å velge\n",
    "fra](https://contextily.readthedocs.io/en/latest/intro_guide.html#Providers).\n",
    "Alle de andre `contextily.providers` (se lenke ovenfor) kan sendes som en\n",
    "`source` til `add_basemap()`. Du kan få en liste over tilgjengelige leverandører:"
   ]
  },
  {
   "cell_type": "code",
   "execution_count": null,
   "id": "ac338144",
   "metadata": {},
   "outputs": [],
   "source": []
  },
  {
   "cell_type": "markdown",
   "id": "279ae00f",
   "metadata": {},
   "source": [
    "På dette zoomnivået, lever fordelene ved å bruke OpenStreetMap (som stedsnavn)\n",
    "ikke opp til sitt fulle potensial. La oss se på et delsett av reisetidsmatrisen:\n",
    "befolkningsdataene som er har bare 15 innbyggere."
   ]
  },
  {
   "cell_type": "code",
   "execution_count": null,
   "id": "3c66bc6e",
   "metadata": {},
   "outputs": [],
   "source": []
  },
  {
   "cell_type": "markdown",
   "id": "c0252e31",
   "metadata": {},
   "source": [
    "Til slutt kan vi endre tilskrivningen (copyright-meldingen) som vises i\n",
    "nederste venstre hjørne av kartplottet. Merk at du alltid skal respektere kart\n",
    "leverandørenes bruksvilkår, som vanligvis inkluderer en datakilde-attribusjon\n",
    "(*contextily*’s standarder tar hånd om dette). Vi kan og bør imidlertid\n",
    "legge til en datakilde for alle lag vi la til, sånn som befolkningsdatasettet:"
   ]
  },
  {
   "cell_type": "code",
   "execution_count": null,
   "id": "8849c6b3",
   "metadata": {},
   "outputs": [],
   "source": []
  }
 ],
 "metadata": {
  "kernelspec": {
   "display_name": "Python 3 (ipykernel)",
   "language": "python",
   "name": "python3"
  },
  "language_info": {
   "codemirror_mode": {
    "name": "ipython",
    "version": 3
   },
   "file_extension": ".py",
   "mimetype": "text/x-python",
   "name": "python",
   "nbconvert_exporter": "python",
   "pygments_lexer": "ipython3",
   "version": "3.11.0"
  }
 },
 "nbformat": 4,
 "nbformat_minor": 5
}
