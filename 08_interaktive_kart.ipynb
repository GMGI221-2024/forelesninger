{
 "cells": [
  {
   "cell_type": "markdown",
   "id": "57673f25",
   "metadata": {},
   "source": [
    "# 💻 Interaktive kart\n",
    "\n",
    "[![Open In Colab](https://colab.research.google.com/assets/colab-badge.svg)](https://colab.research.google.com/github/GMGI221-2024/forelesninger/blob/main/11_interaktive_kart.ipynb)\n",
    "\n",
    "[Online kart](https://link.springer.com/referenceworkentry/10.1007/978-3-319-23519-6_1485-2)\n",
    "har vært interaktive i lang tid: nesten alle online kart tillater å zoome\n",
    "inn og ut, å panorere i kartet, og å velge kartfunksjoner, eller ellers\n",
    "forespørre informasjon om dem.\n",
    "\n",
    "Interaktivt innhold i nettsider, som online kart, er typisk\n",
    "implementert ved hjelp av\n",
    "[*JavaScript*/*ECMAScript*](https://en.wikipedia.org/wiki/ECMAScript), et skriptspråk\n",
    "opprinnelig rettet mot nettsider, primært, men brukt for mange andre\n",
    "applikasjoner.\n",
    "\n",
    "I det åpne kildekoderiket finnes det en rekke forskjellige *JavaScript*\n",
    "biblioteker for interaktiv webkartografi, inkludert\n",
    "[Leaflet](https://leafletjs.com/), som vi vil bruke i denne leksjonen, og\n",
    "[OpenLayers](https://openlayers.org/).\n",
    "\n",
    "Ta det rolig, vi vil ikke måtte skrive en eneste linje med *JavaScript*; dette er et\n",
    "*Python* kurs, tross alt. Heller, vi vil dra nytte av\n",
    "[*Folium*](https://python-visualization.github.io/folium/) Python-pakken: den\n",
    "hjelper med å lage interaktive *Leaflet*-kart fra data lagret i\n",
    "`geopandas.GeoDataFrame`s.\n",
    "\n",
    "\n",
    ":::{admonition} *Folium* ressurser\n",
    ":class: note\n",
    "\n",
    "Finn mer informasjon om mulighetene til *Folium*-pakken på dens\n",
    "offisielle nettsider:\n",
    "- [Dokumentasjon](https://python-visualization.github.io/folium/)\n",
    "- [Eksempelgalleri](https://nbviewer.org/github/python-visualization/folium/tree/main/examples/)\n",
    "- [Hurtigstart guide](https://python-visualization.github.io/folium/quickstart.html#Getting-Started)\n",
    ":::\n",
    "\n",
    "\n",
    "## Opprette et enkelt interaktivt webkart\n",
    "\n",
    "Vi vil starte med å lage et enkelt interaktivt webkart som ikke inneholder noe\n",
    "annet enn et bakgrunnskart. Dette er for at vi skal bli vant til hvordan *Folium*’s syntaks fungerer, og\n",
    "hvilke trinn vi må ta.\n",
    "\n",
    "Vi lager et `folium.Map`-objekt, og spesifiserer rundt hvilken `location` det skal sentreres\n",
    "og på hvilket utgangs-zoomnivå (~0-20) kartet skal vises. Ved å sette\n",
    "`control_scale` til `True`, får vi *Folium* til å vise en skala også."
   ]
  },
  {
   "cell_type": "code",
   "execution_count": 2,
   "id": "734f31aa",
   "metadata": {},
   "outputs": [],
   "source": [
    "import pathlib\n",
    "NOTEBOOK_PATH = pathlib.Path().resolve()\n",
    "DATA_MAPPE = NOTEBOOK_PATH / \"data\"\n",
    "\n",
    "# Vi vil eksportere HTML-sider i løpet av denne leksjonen,\n",
    "# la oss også forberede en utdatamappe for dem:\n"
   ]
  },
  {
   "cell_type": "code",
   "execution_count": null,
   "id": "a88ce446",
   "metadata": {},
   "outputs": [],
   "source": []
  },
  {
   "cell_type": "markdown",
   "id": "15f6dbfb",
   "metadata": {},
   "source": [
    "### Lagre det resulterende kartet\n",
    "\n",
    "For å lagre dette kartet til en HTML-fil som kan åpnes i en hvilken som helst nettleser,\n",
    "bruk [`folium.Map.save()`](https://python-visualization.github.io/branca/element.html#branca.element.Element.save):"
   ]
  },
  {
   "cell_type": "code",
   "execution_count": 3,
   "id": "1a351cc5",
   "metadata": {},
   "outputs": [],
   "source": []
  },
  {
   "cell_type": "markdown",
   "id": "f8633bb1",
   "metadata": {},
   "source": [
    "### Endre bakgrunnskartet\n",
    "\n",
    "Hvis du vil bruke et annet bakgrunnslag enn standard OpenStreetMap,\n",
    "aksepterer `folium.Map` parameteret `tiles`, som kan referere til [en av de\n",
    "innebygde kartleverandørene](https://python-visualization.github.io/folium/modules.html#folium.folium.Map).\n",
    "\n",
    "Mens vi er i gang, la oss også variere senterlokasjonen og zoomnivået på kartet:"
   ]
  },
  {
   "cell_type": "code",
   "execution_count": null,
   "id": "65fd1643",
   "metadata": {},
   "outputs": [],
   "source": []
  },
  {
   "cell_type": "markdown",
   "id": "bef22333",
   "metadata": {},
   "source": [
    "Eller vi kan peke på en egendefinert *tiles URL*:"
   ]
  },
  {
   "cell_type": "code",
   "execution_count": null,
   "id": "336776f2",
   "metadata": {},
   "outputs": [],
   "source": [
    "#tiles=\"https://mt1.google.com/vt/lyrs=r&x={x}&y={y}&z={z}\",\n"
   ]
  },
  {
   "cell_type": "markdown",
   "id": "27dda4d0",
   "metadata": {},
   "source": [
    "## Legg til en punktmarkør\n",
    "\n",
    "For å legge til en enkelt markør til et *Folium* kart, opprett en\n",
    "[`folium.Marker`](https://python-visualization.github.io/folium/modules.html#folium.map.Marker).\n",
    "Gi en\n",
    "[`folium.Icon`](https://python-visualization.github.io/folium/modules.html#folium.map.Icon)\n",
    "som parameter `icon` for å påvirke hvordan markøren er stylet, og sett `tooltip`\n",
    "for å vise en tekst når musepekeren beveger seg over den."
   ]
  },
  {
   "cell_type": "code",
   "execution_count": null,
   "id": "5f2e2b8f",
   "metadata": {},
   "outputs": [],
   "source": []
  },
  {
   "cell_type": "markdown",
   "id": "9acbc2f2",
   "metadata": {},
   "source": [
    "## Legg til et lag med punkter\n",
    "\n",
    "*Folium* støtter også å legge til hele lag, for eksempel, som\n",
    "`geopandas.GeoDataFrames`. *Folium* implementerer [*Leaflet*'s `geoJSON`\n",
    "lag](https://leafletjs.com/reference.html#geojson) i sin\n",
    "`folium.features.GeoJson` klasse. Vi kan initialisere en slik klasse (og lag)\n",
    "med en geodataframe, og legge den til et kart. I eksempelet nedenfor bruker vi\n",
    "`adresser.gpkg` datasettet vi lager [i leksjon\n",
    "3](#05_geokoding_i_geopandas)."
   ]
  },
  {
   "cell_type": "code",
   "execution_count": null,
   "id": "36a16d9d",
   "metadata": {},
   "outputs": [],
   "source": []
  },
  {
   "cell_type": "code",
   "execution_count": null,
   "id": "3b746494",
   "metadata": {},
   "outputs": [],
   "source": []
  },
  {
   "cell_type": "markdown",
   "id": "9c6c24a5",
   "metadata": {},
   "source": [
    "Vi kan også legge til et popup-vindu på kartet vårt som viser adressene på interessepunktet ved å klikke:"
   ]
  },
  {
   "cell_type": "code",
   "execution_count": null,
   "id": "5d5999f6",
   "metadata": {},
   "outputs": [],
   "source": []
  },
  {
   "cell_type": "markdown",
   "id": "50a4af7b",
   "metadata": {},
   "source": [
    "## Legg til et polygonlag\n",
    "\n",
    "I den følgende delen skal vi gjenbesøke et annet datasett som vi har jobbet med før: Befolkningsrutenettet for Oslo fra SSB."
   ]
  },
  {
   "cell_type": "code",
   "execution_count": null,
   "id": "a9596dee",
   "metadata": {},
   "outputs": [],
   "source": []
  },
  {
   "cell_type": "markdown",
   "id": "f5cf41e5",
   "metadata": {},
   "source": [
    ":::{admonition} Indekskolonne for koroplettkart\n",
    ":class: hint\n",
    "\n",
    "Vi vil bruke `folium.Choropleth` for å vise befolkningsrutenettet. Koroplettkart\n",
    "er mer enn bare polygon-geometrier, som kan vises som et\n",
    "`folium.features.GeoJson`-lag, akkurat som vi brukte for adressene, ovenfor. Snarere tar klassen seg av kategorisering av data, legger til en legende, og\n",
    "noen flere små oppgaver for å raskt lage temakart.\n",
    "\n",
    "Klassen forventer et inputdatasett som har en eksplisitt, `str`-type, indeks\n",
    "kolonne, da den behandler den geografiske inputen og den tematiske inputen som separate\n",
    "datasett som må samles (se også, nedenfor, hvordan vi spesifiserer både\n",
    "`geo_data` og `data`).\n",
    "\n",
    "En god tilnærming for å lage en slik kolonne er å kopiere dataframens indeks\n",
    "til en ny kolonne, for eksempel `id`.\n",
    ":::"
   ]
  },
  {
   "cell_type": "code",
   "execution_count": 11,
   "id": "26199697",
   "metadata": {},
   "outputs": [],
   "source": []
  },
  {
   "cell_type": "markdown",
   "id": "bd1d6eee",
   "metadata": {},
   "source": [
    "Nå kan vi lage koroplettlaget for polygoner, og legge det til et kartobjekt.\n",
    "På grunn av den litt komplekse arkitekturen til *Folium*, må vi gi en\n",
    "rekke parametere:\n",
    "- `geo_data` og `data`, geografiske og tematiske inputdatasett,\n",
    "  henholdsvis. Kan være den samme `geopandas.GeoDataFrame`en.\n",
    "- `columns`: en tuple av navnene på relevante kolonner i `data`: en unik\n",
    "  indekskolonne, og kolonnen som inneholder tematiske data\n",
    "- `key_on`: hvilken kolonne i `geo_data` som skal brukes for å koble `data` (dette er\n",
    "  i utgangspunktet identisk med `columns`, bortsett fra at det bare er den første verdien)"
   ]
  },
  {
   "cell_type": "code",
   "execution_count": null,
   "id": "bb88841d",
   "metadata": {},
   "outputs": [],
   "source": []
  },
  {
   "cell_type": "markdown",
   "id": "4d865f74",
   "metadata": {},
   "source": [
    "For å gjøre kartet litt finere, la oss fortsatt be om flere kategorier (`bins`),\n",
    "endre fargeområdet (ved hjelp av `fill_color`), sett linjetykkelsen til null,\n",
    "og legge til en tittel til legenden:"
   ]
  },
  {
   "cell_type": "code",
   "execution_count": null,
   "id": "a539a35f",
   "metadata": {},
   "outputs": [],
   "source": []
  },
  {
   "cell_type": "markdown",
   "id": "9163a54f",
   "metadata": {},
   "source": [
    "### Legg til en tooltip til et koroplettkart\n",
    "\n",
    "I et slikt interaktivt kart, ville det være fint å vise verdien av hvert\n",
    "rutenett-polygon når du holder musepekeren over det. *Folium* støtter ikke\n",
    "dette out-of-the-box, men med et enkel triks kan vi utvide funksjonaliteten:\n",
    "Vi legger til et gjennomsiktig polygonlag ved hjelp av en 'grunnleggende' `folium.features.GeoJson`,\n",
    "og konfigurerer den til å vise tooltips.\n",
    "\n",
    "Vi kan beholde `map` som vi laget ovenfor, og bare legge til et annet lag på det.."
   ]
  },
  {
   "cell_type": "code",
   "execution_count": null,
   "id": "76c0b2af",
   "metadata": {},
   "outputs": [],
   "source": [
    "# folium GeoJson lag forventer en stylingfunksjon,\n",
    "# som mottar hver av kartets funksjon og returnerer\n",
    "# en individuell stil. Den kan imidlertid også returnere en\n",
    "# statisk stil:\n",
    "def style_function(feature):\n",
    "    return {\n",
    "        \"color\": \"transparent\",\n",
    "        \"fillColor\": \"transparent\"\n",
    "    }\n",
    "\n",
    "\n",
    "# Mer komplekse tooltips kan lages ved hjelp av\n",
    "# `folium.features.GeoJsonTooltip` klassen. Nedenfor bruker vi\n",
    "# dens mest grunnleggende funksjoner: `fields` spesifiserer hvilke kolonner\n",
    "# som skal vises, `aliases` hvordan de skal være merket.\n",
    "tooltip = folium.features.GeoJsonTooltip(\n",
    "    fields=(\"\",),\n",
    "    aliases=(\"\",)\n",
    ")\n",
    "\n"
   ]
  },
  {
   "cell_type": "markdown",
   "id": "cb98adbc",
   "metadata": {},
   "source": [
    ":::{admonition} Python-pakker for interaktive (web) kart\n",
    ":class: note\n",
    "\n",
    "*Folium* er bare en av mange pakker som gir en enkel måte å lage interaktive kart ved hjelp av data lagret i (geo-)pandas dataframer. Andre interessante biblioteker inkluderer:\n",
    "\n",
    "- [GeoViews](https://geoviews.org/),\n",
    "- [Mapbox GL for Jupyter](https://github.com/mapbox/mapboxgl-jupyter),\n",
    "- [Bokeh](https://docs.bokeh.org/en/latest/docs/gallery.html),\n",
    "- [Plotly Express](https://plotly.com/python/maps/), og mange flere.\n",
    ":::"
   ]
  }
 ],
 "metadata": {
  "kernelspec": {
   "display_name": "gmgi221",
   "language": "python",
   "name": "python3"
  },
  "language_info": {
   "codemirror_mode": {
    "name": "ipython",
    "version": 3
   },
   "file_extension": ".py",
   "mimetype": "text/x-python",
   "name": "python",
   "nbconvert_exporter": "python",
   "pygments_lexer": "ipython3",
   "version": "3.11.9"
  }
 },
 "nbformat": 4,
 "nbformat_minor": 5
}
